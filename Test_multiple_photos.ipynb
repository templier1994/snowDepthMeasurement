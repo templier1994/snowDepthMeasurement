{
 "cells": [
  {
   "cell_type": "markdown",
   "id": "14201752",
   "metadata": {},
   "source": [
    "# One File readed"
   ]
  },
  {
   "cell_type": "code",
   "execution_count": 4,
   "id": "6b5e48ef",
   "metadata": {},
   "outputs": [
    {
     "name": "stdout",
     "output_type": "stream",
     "text": [
      "Mediane de la hauteur [pixel] :1.0\n",
      "snow height pixel :1.0\n",
      "rapport : 2.7mm/pixel\n",
      "snow height mm 2.7\n"
     ]
    }
   ],
   "source": [
    "import cv2\n",
    "import os\n",
    "import numpy as np\n",
    "\n",
    "#------ briey : coordinates of patron\n",
    "#start_x = 770\n",
    "#start_y = 300\n",
    "#stop_x = 770\n",
    "#stop_y = 680\n",
    "#------------\n",
    "start_x = 770  #width = 37\n",
    "start_y = 299\n",
    "stop_x = 770\n",
    "stop_y = 672\n",
    "\n",
    "\n",
    "\n",
    "#image size\n",
    "imgSizeX =17002\n",
    "imgSizeY= 1000\n",
    "\n",
    "#Debug\n",
    "PRINTIMG = False\n",
    "#Load start image\n",
    "start_image =  cv2.imread('images/patron_detection/noSnow.jpeg') \n",
    "\n",
    "#Turn it to grayscale\n",
    "gray_image = cv2.resize(cv2.cvtColor(start_image, cv2.COLOR_BGR2GRAY), (imgSizeX,imgSizeY), interpolation = cv2.INTER_AREA)\n",
    "\n",
    "#analyse zone width\n",
    "lineWidth = 12\n",
    "#crop the image\n",
    "crop_image = gray_image[start_y:stop_y, start_x-round(lineWidth/2):start_x+round(lineWidth/2)]\n",
    "\n",
    "#variable use if i have to increase the contrast\n",
    "contrast_up_image = crop_image\n",
    "\n",
    "#Make an adaptive threshold\n",
    "thresh1 = cv2.adaptiveThreshold(contrast_up_image, 255, cv2.ADAPTIVE_THRESH_MEAN_C, cv2.THRESH_BINARY,51,11) #51,21\n",
    "\n",
    "\n",
    "#pass the image into sobelx \n",
    "sobelx = cv2.Sobel(thresh1,cv2.CV_64F,0,1,ksize=5)\n",
    "\n",
    "\n",
    "\n",
    "\n",
    "sizeX = sobelx.shape[0]\n",
    "sizeY = sobelx.shape[1]\n",
    "#print(sizeX)\n",
    "#print(sizeY)\n",
    "\n",
    "if PRINTIMG == True:\n",
    "    cv2.imshow(\"cropped\", crop_image)\n",
    "    cv2.imshow(\"thresholded\",thresh1)\n",
    "    cv2.imshow(\"sobel\",sobelx)\n",
    "    cv2.waitKey(0)\n",
    "    cv2.destroyAllWindows()\n",
    "\n",
    "\n",
    "sumPixel = []\n",
    "for i in range(0,sizeY):\n",
    "    countPixel = 0\n",
    "    for j in range(1,sizeX):\n",
    "        if sobelx[sizeX-j][i] == 0.0 :\n",
    "            countPixel = countPixel + 1\n",
    "        else:\n",
    "            sumPixel.append(countPixel)\n",
    "            break\n",
    "snow_height_pixel = np.median(sumPixel)\n",
    "print(\"Mediane de la hauteur [pixel] :\"+str(snow_height_pixel))\n",
    "\n",
    "reference_Height_mm = 1000\n",
    "\n",
    "\n",
    "conversion_rapport = reference_Height_mm/sizeX\n",
    "snow_height_mm = np.round(conversion_rapport * snow_height_pixel,1)\n",
    "print(\"snow height pixel :\" + str(snow_height_pixel))\n",
    "print(\"rapport : \" + str(np.round(conversion_rapport,1)) + \"mm/pixel\")\n",
    "print(\"snow height mm \" + str(snow_height_mm))"
   ]
  },
  {
   "cell_type": "markdown",
   "id": "fede3263",
   "metadata": {},
   "source": [
    "# All images from folder tested "
   ]
  },
  {
   "cell_type": "code",
   "execution_count": 43,
   "id": "49262ba1",
   "metadata": {},
   "outputs": [
    {
     "name": "stdout",
     "output_type": "stream",
     "text": [
      "\n",
      "\n",
      " Erreur moyenne : 5.4%\n"
     ]
    }
   ],
   "source": [
    "import cv2\n",
    "import os\n",
    "import numpy as np\n",
    "import glob\n",
    "\n",
    "#------ briey : coordinates of patron\n",
    "start_x = 770\n",
    "start_y = 300\n",
    "stop_x = 770\n",
    "stop_y = 685\n",
    "#------------\n",
    "reference_Height_mm = 1000\n",
    "\n",
    "#image size\n",
    "imgSizeX =1700\n",
    "imgSizeY= 1000\n",
    "\n",
    "#Debug\n",
    "PRINTIMG = False\n",
    "#Load start image\n",
    "images = [cv2.imread(file) for file in glob.glob(\"images/patron_detection/*.jpeg\") ]\n",
    "file_name = []\n",
    "\n",
    "for fileName_relative in glob.glob(\"images/patron_detection/*.jpeg\",recursive=True):       ## first get full file name with directores using for loop\n",
    "    fileName_absolute = os.path.basename(fileName_relative)                 ## Now get the file name with os.path.basename\n",
    "   #print(fileName_absolute.split('.')[0])\n",
    "    name = fileName_absolute.split('.')[0].replace(\"_\",\".\")\n",
    "    file_name.append(name)\n",
    "\n",
    "resultReal = []\n",
    "resultAlgo = []\n",
    "resultError =[]\n",
    "#--------------------------------------------------------START ALGO---------------------------------------------\n",
    "mean_error = 0\n",
    "for idx_file_name, start_image in enumerate(images):\n",
    "    gray_image = cv2.resize(cv2.cvtColor(start_image, cv2.COLOR_BGR2GRAY), (imgSizeX,imgSizeY), interpolation = cv2.INTER_AREA)\n",
    "\n",
    "    #analyse zone width\n",
    "    lineWidth = 12\n",
    "    #crop the image\n",
    "    crop_image = gray_image[start_y:stop_y, start_x-round(lineWidth/2):start_x+round(lineWidth/2)]\n",
    "\n",
    "    #variable use if i have to increase the contrast\n",
    "    contrast_up_image = crop_image\n",
    "\n",
    "    #Make an adaptive threshold\n",
    "    thresh1 = cv2.adaptiveThreshold(contrast_up_image, 255, cv2.ADAPTIVE_THRESH_MEAN_C, cv2.THRESH_BINARY,51,11) #51,21\n",
    "\n",
    "\n",
    "    #pass the image into sobelx \n",
    "    sobelx = cv2.Sobel(thresh1,cv2.CV_64F,0,1,ksize=5)\n",
    "\n",
    "\n",
    "    sizeX = sobelx.shape[0]\n",
    "    sizeY = sobelx.shape[1]\n",
    "    #---------------------------------------------Debug---------------------------------------------------------\n",
    "    if PRINTIMG == True:\n",
    "        cv2.imshow(\"cropped\", crop_image)\n",
    "        cv2.imshow(\"thresholded\",thresh1)\n",
    "        cv2.imshow(\"sobel\",sobelx)\n",
    "        cv2.waitKey(0)\n",
    "        cv2.destroyAllWindows()\n",
    "    #------------------------------------------------------------------------------------------------------------\n",
    "\n",
    "    sumPixel = []\n",
    "    for i in range(0,sizeY):\n",
    "        countPixel = 0\n",
    "        for j in range(1,sizeX):\n",
    "            if sobelx[sizeX-j][i] == 0.0 :\n",
    "                countPixel = countPixel + 1\n",
    "            else:\n",
    "                sumPixel.append(countPixel)\n",
    "                break\n",
    "    snow_height_pixel = np.median(sumPixel)\n",
    "\n",
    "\n",
    "    conversion_rapport = reference_Height_mm/sizeX\n",
    "    snow_height_cm = np.round((conversion_rapport * snow_height_pixel)/10,1)\n",
    "\n",
    "    \n",
    "    if \"noSnow\" not in file_name[idx_file_name].split('-')[0]:\n",
    "        realMeasure = float(file_name[idx_file_name].split('-')[0])\n",
    "        error = round(realMeasure - snow_height_cm,1)\n",
    "        error_percent = abs(round((error/snow_height_cm)*100,1))\n",
    "        mean_error = mean_error + error_percent\n",
    "        #print(\"file name : \" + file_name[idx_file_name])\n",
    "        #print(\"realMeasure : \" + str(realMeasure))\n",
    "        #print(\"snow height cm : \" + str(snow_height_cm))\n",
    "        #print(\"error : \" + str(error) +\"cm\")\n",
    "        #print(\"error : \" +str(error_percent)+\"%\")\n",
    "        #print()\n",
    "    else: \n",
    "        realMeasure = 0\n",
    "        error = 0\n",
    "        error_percent = 0\n",
    "        mean_error = mean_error + error_percent\n",
    "        #print(\"file name : \" + file_name[idx_file_name])\n",
    "        #print(\"realMeasure : \" + str(realMeasure))\n",
    "        #print(\"snow height cm :\" + str(snow_height_cm))\n",
    "        #print(\"error : \" + str(error) +\"cm\")\n",
    "        #print(\"error : \" +str(error_percent)+\"%\")\n",
    "        #print()\n",
    "    resultReal.append(realMeasure)\n",
    "    resultAlgo.append(snow_height_cm)\n",
    "    resultError.append(error_percent)\n",
    "\n",
    "mean_error = round(mean_error / len(images),1)    \n",
    "print (\"\\n\\n Erreur moyenne : \" + str(mean_error) + \"%\" )"
   ]
  },
  {
   "cell_type": "markdown",
   "id": "acec0a75",
   "metadata": {},
   "source": [
    "# Chart of results"
   ]
  },
  {
   "cell_type": "code",
   "execution_count": 44,
   "id": "e6d8acd2",
   "metadata": {},
   "outputs": [
    {
     "name": "stdout",
     "output_type": "stream",
     "text": [
      "[17.0, 27.0, 21.0, 11.0, 28.0, 35.0, 0, 10.0, 14.5, 0, 38.0, 5.0]\n",
      "[17.1, 25.7, 20.9, 11.0, 27.3, 33.2, 3.6, 11.3, 15.1, 3.1, 37.1, 7.5]\n",
      "[0.6, 5.1, 0.5, 0.0, 2.6, 5.4, 0, 11.5, 4.0, 0, 2.4, 33.3]\n"
     ]
    }
   ],
   "source": [
    "print(resultReal)\n",
    "print(resultAlgo)\n",
    "print(resultError)"
   ]
  },
  {
   "cell_type": "code",
   "execution_count": 45,
   "id": "205f6089",
   "metadata": {},
   "outputs": [
    {
     "data": {
      "image/png": "[encoded data removed]",
      "text/plain": [
       "<Figure size 432x288 with 1 Axes>"
      ]
     },
     "metadata": {
      "needs_background": "light"
     },
     "output_type": "display_data"
    },
    {
     "data": {
      "image/png": "[encoded data removed]",
      "text/plain": [
       "<Figure size 432x288 with 1 Axes>"
      ]
     },
     "metadata": {
      "needs_background": "light"
     },
     "output_type": "display_data"
    }
   ],
   "source": [
    "from matplotlib import pyplot as plt \n",
    "\n",
    "\n",
    "plt.plot(resultAlgo,'g*', resultReal, 'ro')\n",
    "plt.ylim(-2,40)\n",
    "plt.ylabel(\"SnowHeight\")\n",
    "plt.title(\"stars : result algo, point : real measure\")\n",
    "plt.show()\n",
    "\n",
    "plt.plot(resultError,'g*')\n",
    "plt.title(\"error [%]\")\n",
    "plt.show()"
   ]
  },
  {
   "cell_type": "code",
   "execution_count": null,
   "id": "e955f781",
   "metadata": {},
   "outputs": [],
   "source": []
  }
 ],
 "metadata": {
  "kernelspec": {
   "display_name": "Python 3 (ipykernel)",
   "language": "python",
   "name": "python3"
  },
  "language_info": {
   "codemirror_mode": {
    "name": "ipython",
    "version": 3
   },
   "file_extension": ".py",
   "mimetype": "text/x-python",
   "name": "python",
   "nbconvert_exporter": "python",
   "pygments_lexer": "ipython3",
   "version": "3.8.10"
  }
 },
 "nbformat": 4,
 "nbformat_minor": 5
}
