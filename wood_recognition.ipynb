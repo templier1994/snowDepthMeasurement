{
 "cells": [
  {
   "cell_type": "markdown",
   "id": "56089e35",
   "metadata": {},
   "source": [
    "# But :\n",
    "## - Détection automatique de l'étalon\n",
    "## - Retourner les coodornées des angles\n"
   ]
  },
  {
   "cell_type": "code",
   "execution_count": 3,
   "id": "93a57bf5",
   "metadata": {},
   "outputs": [
    {
     "name": "stdout",
     "output_type": "stream",
     "text": [
      "Coordinates of the etalon: \n",
      "Start_x : 763 Start_y : 297\n",
      "Stop_x : 763 Stop_y : 669\n",
      "width : 37\n"
     ]
    }
   ],
   "source": [
    "import cv2\n",
    "import os\n",
    "import numpy as np\n",
    "\n",
    "#load the image\n",
    "img = cv2.imread('images/patron_detection/noSnow1.jpeg')\n",
    "img = cv2.resize(img, (1700,1000),interpolation = cv2.INTER_AREA)  \n",
    "\n",
    "#contours variable\n",
    "contours=0;\n",
    "\n",
    "#coordinates of the etalon\n",
    "start_x = 0\n",
    "start_y = 0\n",
    "stop_x = 0\n",
    "stop_y = 0\n",
    "\n",
    "#max/min contour length\n",
    "MAX_CONTOUR_LENGTH = 15000\n",
    "MIN_CONTOUR_LENGTH = 10000\n",
    "\n",
    "# function to display the coordinates of\n",
    "# of the points clicked on the image\n",
    "def click_event(event, x, y, flags, params):\n",
    " \n",
    "    # checking for left mouse clicks\n",
    "    if event == cv2.EVENT_LBUTTONDOWN:\n",
    " \n",
    "        # displaying the coordinates\n",
    "        # on the Shell\n",
    "        #print(x, ' ', y)\n",
    "        for contour in contours :\n",
    "            if cv2.contourArea(contour) >= MIN_CONTOUR_LENGTH and cv2.contourArea(contour) < MAX_CONTOUR_LENGTH:\n",
    "                if cv2.pointPolygonTest(contour, (x,y), False) == 1.0:\n",
    "                   cv2.drawContours(img, [contour], 0, (0, 255, 0), 3)\n",
    "                   cv2.imshow('image', img)\n",
    "                   X,Y,W,H = cv2.boundingRect(contour)\n",
    "                   cv2.rectangle(img,(X,Y),(X+W,Y+H),(255,0,0),2) \n",
    "                   cv2.imshow('image', img)\n",
    "                   start_x = X\n",
    "                   start_y = Y\n",
    "                   stop_x = X\n",
    "                   stop_y = Y+H \n",
    "                   print(\"Coordinates of the etalon: \")\n",
    "                   print(\"Start_x : \"+ str(start_x) +\" Start_y : \" + str(start_y))\n",
    "                   print(\"Stop_x : \"+ str(stop_x) +\" Stop_y : \" + str(stop_y))\n",
    "                   print(\"width : \" + str(W)) \n",
    "\n",
    "# driver function\n",
    "if __name__==\"__main__\":\n",
    "    \n",
    "\n",
    "    # converting image into grayscale image\n",
    "    gray = cv2.cvtColor(img, cv2.COLOR_BGR2GRAY)\n",
    "    gray = cv2.equalizeHist(gray) \n",
    "    #gray = cv2.GaussianBlur(gray, (5,5), 5)\n",
    "    \n",
    "    # setting threshold of gray image\n",
    "    #_,threshold = cv2.threshold(gray, 53, 255, cv2.THRESH_BINARY)\n",
    "    threshold = cv2.adaptiveThreshold(gray, 255, cv2.ADAPTIVE_THRESH_MEAN_C, cv2.THRESH_BINARY,21,11)  \n",
    "    \n",
    "    # using a findContours() function\n",
    "    contours, _ = cv2.findContours(threshold, cv2.RETR_TREE, cv2.CHAIN_APPROX_SIMPLE)\n",
    "\n",
    "    count = 0\n",
    "    for contour in contours:\n",
    "\n",
    "\n",
    "        # using drawContours() function\n",
    "        if cv2.contourArea(contour) >= MIN_CONTOUR_LENGTH and cv2.contourArea(contour) < MAX_CONTOUR_LENGTH:\n",
    "            cv2.drawContours(img, [contour], 0, (0, 0, 255), 2)\n",
    "            M = cv2.moments(contour)\n",
    "            if M['m00'] != 0.0:\n",
    "                x = int(M['m10']/M['m00'])\n",
    "                y = int(M['m01']/M['m00'])\n",
    "            cv2.putText(img, str(count), (x, y), cv2.FONT_HERSHEY_SIMPLEX, 0.6, (255, 255, 255), 2)\n",
    "            count = count+1;\n",
    "\n",
    "    # displaying the image after drawing contours\n",
    "    cv2.imshow('image', img)\n",
    "    cv2.setMouseCallback('image', click_event)\n",
    "\n",
    "    cv2.waitKey(0)\n",
    "    cv2.destroyAllWindows()\n",
    "    \n",
    "\n",
    "    "
   ]
  },
  {
   "cell_type": "code",
   "execution_count": null,
   "id": "6357a5ab",
   "metadata": {},
   "outputs": [],
   "source": []
  },
  {
   "cell_type": "code",
   "execution_count": null,
   "id": "eca76dfe",
   "metadata": {},
   "outputs": [],
   "source": []
  }
 ],
 "metadata": {
  "kernelspec": {
   "display_name": "Python 3 (ipykernel)",
   "language": "python",
   "name": "python3"
  },
  "language_info": {
   "codemirror_mode": {
    "name": "ipython",
    "version": 3
   },
   "file_extension": ".py",
   "mimetype": "text/x-python",
   "name": "python",
   "nbconvert_exporter": "python",
   "pygments_lexer": "ipython3",
   "version": "3.8.10"
  }
 },
 "nbformat": 4,
 "nbformat_minor": 5
}
