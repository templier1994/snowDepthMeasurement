{
 "cells": [
  {
   "cell_type": "code",
   "execution_count": 1,
   "id": "a3ff511c",
   "metadata": {},
   "outputs": [],
   "source": [
    "from tkinter import *\n",
    "from tkinter.filedialog import askopenfilename \n",
    "from PIL import Image, ImageTk\n",
    "import cv2\n",
    "import os\n",
    "import numpy as np\n"
   ]
  },
  {
   "cell_type": "markdown",
   "id": "d77f8fe8",
   "metadata": {},
   "source": [
    "# Some Variables and the image loaded"
   ]
  },
  {
   "cell_type": "code",
   "execution_count": 25,
   "id": "31fdf388",
   "metadata": {},
   "outputs": [],
   "source": [
    "ref_height = 92.5\n",
    "#------ briey\n",
    "start_x = 770\n",
    "start_y = 300\n",
    "stop_x = 770\n",
    "stop_y = 690\n",
    "#------ zoom images ------\n",
    "#start_x = 621\n",
    "#start_y = 497\n",
    "#stop_x = 621\n",
    "#stop_y = 947\n",
    "#------ zoom0 images -----\n",
    "#start_x = 758\n",
    "#start_y = 437\n",
    "#stop_x = 758\n",
    "#stop_y = 705\n",
    "\n",
    "\n",
    "imgSizeX =1700\n",
    "imgSizeY= 1000\n",
    "\n",
    "\n",
    "start_image =  cv2.imread('images/briey/28_5.jpeg') \n",
    "\n"
   ]
  },
  {
   "cell_type": "markdown",
   "id": "2c133841",
   "metadata": {},
   "source": [
    "### Turn image as grayscal and risize it"
   ]
  },
  {
   "cell_type": "code",
   "execution_count": 26,
   "id": "49b21a9e",
   "metadata": {},
   "outputs": [],
   "source": [
    "#resize the images and turn to gray scale\n",
    "gray_image = cv2.resize(cv2.cvtColor(start_image, cv2.COLOR_BGR2GRAY), (imgSizeX,imgSizeY), interpolation = cv2.INTER_AREA)\n",
    "#gray_image = cv2.GaussianBlur(gray_image, (2,2), 1)\n",
    "#cv2.imshow('grayscale', gray_image)\n",
    "#cv2.imwrite('resized22cm.jpg', gray_image)\n",
    "\n",
    "#cv2.waitKey(0)\n",
    "#cv2.destroyAllWindows()\n"
   ]
  },
  {
   "cell_type": "markdown",
   "id": "9f9fd121",
   "metadata": {},
   "source": [
    "## Isolate the part of image we have interrest"
   ]
  },
  {
   "cell_type": "code",
   "execution_count": null,
   "id": "7aac35e5",
   "metadata": {},
   "outputs": [],
   "source": [
    "#DEBUG : draw crop rectangle\n",
    "toDebug = cv2.rectangle(gray_image, (start_x,start_y), (stop_x+12,stop_y), (0,255,0),2)\n",
    "cv2.imshow(\"debug\", toDebug)\n",
    "cv2.waitKey(0)\n",
    "cv2.destroyAllWindows()"
   ]
  },
  {
   "cell_type": "code",
   "execution_count": 27,
   "id": "3c26b9dd",
   "metadata": {},
   "outputs": [],
   "source": [
    "lineWidth = 12\n",
    "crop_image = gray_image[start_y:stop_y, start_x-round(lineWidth/2):start_x+round(lineWidth/2)]\n",
    "cv2.imshow(\"cropped\", crop_image)\n",
    "cv2.waitKey(0)\n",
    "cv2.destroyAllWindows()"
   ]
  },
  {
   "cell_type": "markdown",
   "id": "8e0b5809",
   "metadata": {},
   "source": [
    "## Pass the interrested part of the image into filter"
   ]
  },
  {
   "cell_type": "markdown",
   "id": "67f1111c",
   "metadata": {},
   "source": [
    "### contrast up"
   ]
  },
  {
   "cell_type": "code",
   "execution_count": 28,
   "id": "7d21d875",
   "metadata": {},
   "outputs": [],
   "source": [
    "\n",
    "#cv2.imshow(\"no Thresh\", crop_image)\n",
    "\n",
    "#augmented contrast\n",
    "#contrast_up_image = cv2.equalizeHist(crop_image)\n",
    "contrast_up_image = crop_image\n",
    "\n",
    "      \n",
    "\n",
    "#cv2.imshow(\"more contrasted\", contrast_up_image)\n",
    "\n",
    "#cv2.waitKey(0)\n",
    "#cv2.destroyAllWindows()"
   ]
  },
  {
   "cell_type": "markdown",
   "id": "676b0231",
   "metadata": {},
   "source": [
    "### filter"
   ]
  },
  {
   "cell_type": "code",
   "execution_count": 29,
   "id": "83c2cc9b",
   "metadata": {},
   "outputs": [],
   "source": [
    "\n",
    "#thresh1 = cv2.adaptiveThreshold(contrast_up_image, 255, cv2.ADAPTIVE_THRESH_GAUSSIAN_C, cv2.THRESH_BINARY,51,21) #51,21\n",
    "thresh1 = cv2.adaptiveThreshold(contrast_up_image, 255, cv2.ADAPTIVE_THRESH_MEAN_C, cv2.THRESH_BINARY,51,11) #51,21\n",
    "\n",
    "cv2.imshow(\"cropped\", crop_image)\n",
    "cv2.imshow(\"thresholded\",thresh1)\n",
    "\n",
    "sobelx = cv2.Sobel(thresh1,cv2.CV_64F,0,1,ksize=5)\n",
    "\n",
    "\n",
    "cv2.imshow(\"sobel\",sobelx)\n",
    "#_ ,sobelx_thresh = cv2.threshold(sobelx, 50, 255, cv2.THRESH_BINARY )\n",
    "#cv2.imshow(\"sobel_thresh\", sobelx_thresh)\n",
    "\n",
    "\n",
    "#laplacian = cv2.Laplacian(thresh1,cv2.CV_64F)\n",
    "#cv2.imshow(\"laplacian\",laplacian)\n",
    "cv2.waitKey(0)\n",
    "cv2.destroyAllWindows()"
   ]
  },
  {
   "cell_type": "markdown",
   "id": "61727759",
   "metadata": {},
   "source": [
    "## Calculate the median value of snow height in pixel"
   ]
  },
  {
   "cell_type": "code",
   "execution_count": 30,
   "id": "39b05bd1",
   "metadata": {},
   "outputs": [
    {
     "name": "stdout",
     "output_type": "stream",
     "text": [
      "Mediane de la hauteur [pixel] :118.0\n"
     ]
    }
   ],
   "source": [
    "sizeX = sobelx.shape[0]\n",
    "sizeY = sobelx.shape[1]\n",
    "#print(sizeX)\n",
    "#print(sizeY)\n",
    "\n",
    "sumPixel = []\n",
    "for i in range(0,sizeY):\n",
    "    countPixel = 0\n",
    "    for j in range(1,sizeX):\n",
    "        if sobelx[sizeX-j][i] == 0.0 :\n",
    "            countPixel = countPixel + 1\n",
    "        else:\n",
    "            sumPixel.append(countPixel)\n",
    "            break\n",
    "snow_height_pixel = np.median(sumPixel)\n",
    "print(\"Mediane de la hauteur [pixel] :\"+str(snow_height_pixel))"
   ]
  },
  {
   "cell_type": "code",
   "execution_count": 31,
   "id": "ed48cc1c",
   "metadata": {},
   "outputs": [
    {
     "name": "stdout",
     "output_type": "stream",
     "text": [
      "snow height pixel :118.0\n",
      "rapport : 2.4mm/pixel\n",
      "snow height mm 279.9\n"
     ]
    }
   ],
   "source": [
    "reference_Height_mm = 1000\n",
    "\n",
    "\n",
    "conversion_rapport = reference_Height_mm/sizeX\n",
    "snow_height_mm = np.round(conversion_rapport * snow_height_pixel,1)\n",
    "print(\"snow height pixel :\" + str(snow_height_pixel))\n",
    "print(\"rapport : \" + str(np.round(conversion_rapport,1)) + \"mm/pixel\")\n",
    "print(\"snow height mm \" + str(snow_height_mm))"
   ]
  },
  {
   "cell_type": "markdown",
   "id": "dd49c112",
   "metadata": {},
   "source": [
    "# Test result of algo"
   ]
  },
  {
   "cell_type": "code",
   "execution_count": null,
   "id": "5f5578f7",
   "metadata": {},
   "outputs": [],
   "source": []
  }
 ],
 "metadata": {
  "kernelspec": {
   "display_name": "Python 3 (ipykernel)",
   "language": "python",
   "name": "python3"
  },
  "language_info": {
   "codemirror_mode": {
    "name": "ipython",
    "version": 3
   },
   "file_extension": ".py",
   "mimetype": "text/x-python",
   "name": "python",
   "nbconvert_exporter": "python",
   "pygments_lexer": "ipython3",
   "version": "3.8.10"
  }
 },
 "nbformat": 4,
 "nbformat_minor": 5
}
